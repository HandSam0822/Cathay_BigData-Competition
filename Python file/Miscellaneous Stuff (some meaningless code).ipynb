{
 "cells": [
  {
   "cell_type": "code",
   "execution_count": null,
   "metadata": {},
   "outputs": [],
   "source": [
    "def kdeplot(dataframe , var_name):\n",
    "    df = dataframe\n",
    "    plt.figure(figsize = (10, 5))\n",
    "    \n",
    "    sns.kdeplot(df[df['Y1'] == 0][var_name],label = 'Y1==0')\n",
    "    sns.kdeplot(df[df['Y1'] == 1][var_name],label = 'Y1==1')\n",
    "    \n",
    "    plt.xlabel(var_name); plt.ylabel('Density'); plt.title('%s Distribution' % var_name)\n",
    "    plt.legend();\n",
    "    \n"
   ]
  },
  {
   "cell_type": "code",
   "execution_count": null,
   "metadata": {},
   "outputs": [],
   "source": [
    "def boxplot(dateframe, col_list):\n",
    "    df1 = df[col_list]\n",
    "    column = list(df1.columns)\n",
    "    for col in column:\n",
    "        plt.boxplot(df1[df1['Y1'] ==0])\n",
    "    \n",
    "    "
   ]
  },
  {
   "cell_type": "code",
   "execution_count": null,
   "metadata": {},
   "outputs": [],
   "source": [
    "def kde_target(var_name, df):\n",
    "    \n",
    "    # Calculate the correlation coefficient between the new variable and the target\n",
    "    corr = df['Y1'].corr(df[var_name])\n",
    "    \n",
    "    # Calculate medians for repaid vs not repaid\n",
    "    avg_repaid = df[df['Y1'] == 0, var_name].median()\n",
    "    avg_not_repaid = df[df['Y1'] == 1, var_name].median()\n",
    "    \n",
    "    plt.figure(figsize = (12, 6))\n",
    "    \n",
    "    # Plot the distribution for target == 0 and target == 1\n",
    "    sns.kdeplot(df[df['Y1'] == 0, var_name], label = 'Y1 == 0')\n",
    "    sns.kdeplot(df[df['Y1'] == 1, var_name], label = 'Y1 == 1')\n",
    "    \n",
    "    # label the plot\n",
    "    plt.xlabel(var_name); plt.ylabel('Density'); plt.title('%s Distribution' % var_name)\n",
    "    plt.legend();\n",
    "    \n",
    "    # print out the correlation\n",
    "    print('The correlation between %s and the TARGET is %0.4f' % (var_name, corr))\n",
    "    # Print out average values\n",
    "    print('Median value for loan that was not repaid = %0.4f' % avg_not_repaid)\n",
    "    print('Median value for loan that was repaid =     %0.4f' % avg_repaid)"
   ]
  },
  {
   "cell_type": "markdown",
   "metadata": {},
   "source": [
    "### Standardization\n"
   ]
  },
  {
   "cell_type": "code",
   "execution_count": null,
   "metadata": {},
   "outputs": [],
   "source": [
    "from sklearn.preprocessing import Normalizer\n",
    "\n",
    "for col in train.columns:\n",
    "    if train[col].unique().sum()>10 and col!='CUS_ID':\n",
    "        x = np.array(train[col]).reshape(-1,1)\n",
    "        train[col] = Normalizer(norm='l1').fit_transform(x)\n"
   ]
  },
  {
   "cell_type": "markdown",
   "metadata": {},
   "source": [
    "### Outlier Detect"
   ]
  },
  {
   "cell_type": "code",
   "execution_count": null,
   "metadata": {},
   "outputs": [],
   "source": [
    "\n",
    "IQR = [] #離群值list\n",
    "for col in a_n.columns:\n",
    "    Q1 = a_n[col].quantile(0.25)\n",
    "    Q3 = a_n[col].quantile(0.75)\n",
    "    whisker = 7*(Q3 - Q1)\n",
    "    threshold = Q3+whisker\n",
    "    # Get names of indexes for which column exceed threshold\n",
    "    indexNames = a_n[a_n[col] > threshold ].index\n",
    "    print(len(indexNames))\n",
    "    # Delete these row indexes from dataFrame\n",
    "    a_n.drop(indexNames, inplace=True)\n",
    "\n",
    "\n",
    "a_n.shape\n",
    "\n",
    "\n",
    "\n"
   ]
  }
 ],
 "metadata": {
  "kernelspec": {
   "display_name": "Python 3",
   "language": "python",
   "name": "python3"
  },
  "language_info": {
   "codemirror_mode": {
    "name": "ipython",
    "version": 3
   },
   "file_extension": ".py",
   "mimetype": "text/x-python",
   "name": "python",
   "nbconvert_exporter": "python",
   "pygments_lexer": "ipython3",
   "version": "3.7.4"
  }
 },
 "nbformat": 4,
 "nbformat_minor": 2
}
