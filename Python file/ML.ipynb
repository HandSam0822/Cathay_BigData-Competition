{
 "cells": [
  {
   "cell_type": "markdown",
   "metadata": {},
   "source": [
    "## Costcla"
   ]
  },
  {
   "cell_type": "code",
   "execution_count": null,
   "metadata": {},
   "outputs": [],
   "source": [
    "from costcla.metrics import cost_loss, savings_score\n",
    "from sklearn.model_selection import train_test_split\n",
    "from costcla.models import CostSensitiveDecisionTreeClassifier"
   ]
  },
  {
   "cell_type": "code",
   "execution_count": null,
   "metadata": {},
   "outputs": [],
   "source": [
    "from costcla.models import CostSensitiveDecisionTreeClassifier"
   ]
  },
  {
   "cell_type": "markdown",
   "metadata": {},
   "source": [
    "## Ensemble RandomForest"
   ]
  },
  {
   "cell_type": "code",
   "execution_count": null,
   "metadata": {},
   "outputs": [],
   "source": [
    "import numpy as np\n",
    "import matplotlib.pyplot as plt\n",
    "from sklearn.model_selection import train_test_split\n",
    "from sklearn.ensemble import RandomForestClassifier\n",
    "from scipy import stats\n",
    "\n",
    "x_train, x_test, y_train, y_test = train_test_split(X_resampled1 , y_resampled1, test_size=0.25, random_state=33)\n",
    "\n",
    "rfc = RandomForestClassifier()\n",
    "\n",
    "rfc.fit(x_train, y_train)\n",
    "y_pred_rfc = rfc.predict(x_test)\n",
    "\n",
    "# 和y_test比較\n",
    "from sklearn import metrics\n",
    "import seaborn as sns\n",
    "\n",
    "cnf_matrix = metrics.confusion_matrix(y_test, y_pred_rfc)\n",
    "cnf_matrix\n",
    "\n",
    "class_names=[0,1] # name  of classes\n",
    "\n",
    "fig, ax = plt.subplots()\n",
    "tick_marks = np.arange(len(class_names))\n",
    "plt.xticks(tick_marks, class_names)\n",
    "plt.yticks(tick_marks, class_names)\n",
    "\n",
    "# create heatmap\n",
    "sns.heatmap(pd.DataFrame(cnf_matrix), annot=True, cmap=\"YlGnBu\" ,fmt='g')\n",
    "ax.xaxis.set_label_position(\"top\")\n",
    "plt.tight_layout()\n",
    "plt.title('Confusion matrix', y=1.1)\n",
    "plt.ylabel('Actual label')\n",
    "plt.xlabel('Predicted label')"
   ]
  },
  {
   "cell_type": "code",
   "execution_count": null,
   "metadata": {},
   "outputs": [],
   "source": [
    "# 看area under ROC curve\n",
    "from sklearn.metrics import roc_auc_score\n",
    "\n",
    "print('Roc_auc_score:', roc_auc_score(y_test, y_pred_rfc) )\n",
    "print(\"Precision:\",metrics.precision_score(y_test, y_pred_rfc))\n",
    "print(\"Recall:\",metrics.recall_score(y_test, y_pred_rfc))"
   ]
  },
  {
   "cell_type": "markdown",
   "metadata": {},
   "source": [
    "## Isolation Forest"
   ]
  },
  {
   "cell_type": "code",
   "execution_count": null,
   "metadata": {},
   "outputs": [],
   "source": [
    "import numpy as np\n",
    "import matplotlib.pyplot as plt\n",
    "from sklearn.model_selection import train_test_split\n",
    "from sklearn.ensemble import IsolationForest\n",
    "from scipy import stats\n",
    "\n",
    "x_train, x_test, y_train, y_test = train_test_split(train, real_y, test_size=0.25, random_state=33)\n",
    "\n",
    "clf = IsolationForest(n_estimators = 100, \n",
    "                        max_samples = 256,\n",
    "                        contamination = 0.02, \n",
    "                        behaviour= \" new\", \n",
    "                        random_state = np.random.RandomState(42))\n",
    "\n",
    "clf.fit(x_train)\n",
    "y_pred_train = clf.predict(x_test)\n",
    "y_pred_train"
   ]
  },
  {
   "cell_type": "code",
   "execution_count": null,
   "metadata": {},
   "outputs": [],
   "source": [
    "np.unique(y_pred_train, return_counts=True)"
   ]
  },
  {
   "cell_type": "code",
   "execution_count": null,
   "metadata": {},
   "outputs": [],
   "source": [
    "# 把-1轉成1，1轉成0\n",
    "y_pred_train[y_pred_train > 0 ] = 0\n",
    "y_pred_train[y_pred_train < 0 ] = 1\n",
    "\n",
    "#轉成list\n",
    "y_pred_train = list(y_pred_train)"
   ]
  },
  {
   "cell_type": "code",
   "execution_count": null,
   "metadata": {},
   "outputs": [],
   "source": [
    "# 和y_test比較\n",
    "from sklearn import metrics\n",
    "import seaborn as sns\n",
    "\n",
    "cnf_matrix = metrics.confusion_matrix(y_test, y_pred_train)\n",
    "cnf_matrix\n",
    "\n",
    "class_names=[0,1] # name  of classes\n",
    "\n",
    "fig, ax = plt.subplots()\n",
    "tick_marks = np.arange(len(class_names))\n",
    "plt.xticks(tick_marks, class_names)\n",
    "plt.yticks(tick_marks, class_names)\n",
    "\n",
    "# create heatmap\n",
    "sns.heatmap(pd.DataFrame(cnf_matrix), annot=True, cmap=\"YlGnBu\" ,fmt='g')\n",
    "ax.xaxis.set_label_position(\"top\")\n",
    "plt.tight_layout()\n",
    "plt.title('Confusion matrix', y=1.1)\n",
    "plt.ylabel('Actual label')\n",
    "plt.xlabel('Predicted label')"
   ]
  },
  {
   "cell_type": "code",
   "execution_count": null,
   "metadata": {},
   "outputs": [],
   "source": [
    "# 看area under ROC curve\n",
    "from sklearn.metrics import roc_auc_score\n",
    "\n",
    "print( roc_auc_score(y_test, y_pred_train) )"
   ]
  },
  {
   "cell_type": "markdown",
   "metadata": {},
   "source": [
    "< 0.5代表模型弄錯了（再看清楚）"
   ]
  },
  {
   "cell_type": "markdown",
   "metadata": {},
   "source": [
    "131 features 時diff有878 用了feature selection 變885 --> xgboost的feature selection沒用"
   ]
  },
  {
   "cell_type": "code",
   "execution_count": null,
   "metadata": {},
   "outputs": [],
   "source": [
    "# 預測test值\n",
    "y_pred_test = clf.predict(test)\n",
    "y_pred_test"
   ]
  },
  {
   "cell_type": "code",
   "execution_count": null,
   "metadata": {},
   "outputs": [],
   "source": [
    "# 把-1轉成1\n",
    "y_pred_test[y_pred_test > 0 ] = 0\n",
    "y_pred_test[y_pred_test < 0 ] = 1\n",
    "\n",
    "#轉成list\n",
    "y_pred_test = list(y_pred_test)"
   ]
  },
  {
   "cell_type": "code",
   "execution_count": null,
   "metadata": {},
   "outputs": [],
   "source": [
    "np.unique(y_pred_test, return_counts=True)"
   ]
  },
  {
   "cell_type": "markdown",
   "metadata": {},
   "source": [
    "## One CLASS SVM"
   ]
  },
  {
   "cell_type": "code",
   "execution_count": null,
   "metadata": {},
   "outputs": [],
   "source": [
    "from sklearn.svm import OneClassSVM\n",
    "\n",
    "ocs = OneClassSVM(gamma='auto').fit(train_onlyN)"
   ]
  },
  {
   "cell_type": "code",
   "execution_count": null,
   "metadata": {},
   "outputs": [],
   "source": [
    "ocs_predict = ocs.predict(train_onlyY)\n",
    "np.unique(ocs_predict, return_counts=True)"
   ]
  },
  {
   "cell_type": "code",
   "execution_count": null,
   "metadata": {},
   "outputs": [],
   "source": [
    "# 把-1轉成1，1轉成0\n",
    "ocs_predict[ocs_predict > 0 ] = 0\n",
    "ocs_predict[ocs_predict < 0 ] = 1\n",
    "\n",
    "#轉成list\n",
    "ocs_predict = list(ocs_predict)"
   ]
  },
  {
   "cell_type": "code",
   "execution_count": null,
   "metadata": {},
   "outputs": [],
   "source": [
    "real_y[real_y == 1]"
   ]
  },
  {
   "cell_type": "code",
   "execution_count": null,
   "metadata": {},
   "outputs": [],
   "source": [
    "ocs_predict = ocs.predict(test1)"
   ]
  },
  {
   "cell_type": "code",
   "execution_count": null,
   "metadata": {},
   "outputs": [],
   "source": [
    "# 把-1轉成1，1轉成0\n",
    "ocs_predict[ocs_predict > 0 ] = 0\n",
    "ocs_predict[ocs_predict < 0 ] = 1\n",
    "\n",
    "#轉成list\n",
    "ocs_predict = list(ocs_predict)"
   ]
  },
  {
   "cell_type": "code",
   "execution_count": null,
   "metadata": {},
   "outputs": [],
   "source": [
    "np.unique(ocs_predict, return_counts=True)"
   ]
  },
  {
   "cell_type": "markdown",
   "metadata": {},
   "source": [
    "## Ensemble BalancedBaggingClassifier"
   ]
  },
  {
   "cell_type": "code",
   "execution_count": null,
   "metadata": {},
   "outputs": [],
   "source": [
    "from sklearn import ensemble, preprocessing, metrics\n",
    "from imblearn.ensemble import BalancedBaggingClassifier\n",
    "from sklearn.tree import DecisionTreeClassifier\n",
    "\n",
    "x_train, x_test, y_train, y_test = train_test_split(train, real_y, test_size=0.25, random_state=33)\n",
    "bbc = BalancedBaggingClassifier(base_estimator=DecisionTreeClassifier(),\n",
    "                                 sampling_strategy='auto',\n",
    "                                 replacement=False,\n",
    "                                 random_state=0)\n",
    "bbc.fit(x_train, y_train) \n",
    "\n",
    "y_pred = bbc.predict(x_test)"
   ]
  },
  {
   "cell_type": "code",
   "execution_count": null,
   "metadata": {},
   "outputs": [],
   "source": [
    "# 和y_test比較\n",
    "from sklearn import metrics\n",
    "import seaborn as sns\n",
    "\n",
    "cnf_matrix = metrics.confusion_matrix(y_test, y_pred)\n",
    "cnf_matrix\n",
    "\n",
    "class_names=[0,1] # name  of classes\n",
    "\n",
    "fig, ax = plt.subplots()\n",
    "tick_marks = np.arange(len(class_names))\n",
    "plt.xticks(tick_marks, class_names)\n",
    "plt.yticks(tick_marks, class_names)\n",
    "\n",
    "# create heatmap\n",
    "sns.heatmap(pd.DataFrame(cnf_matrix), annot=True, cmap=\"YlGnBu\" ,fmt='g')\n",
    "ax.xaxis.set_label_position(\"top\")\n",
    "plt.tight_layout()\n",
    "plt.title('Confusion matrix', y=1.1)\n",
    "plt.ylabel('Actual label')\n",
    "plt.xlabel('Predicted label')"
   ]
  },
  {
   "cell_type": "code",
   "execution_count": null,
   "metadata": {},
   "outputs": [],
   "source": [
    "# 看area under ROC curve\n",
    "from sklearn.metrics import roc_auc_score\n",
    "\n",
    "print('Roc_auc_score:', roc_auc_score(y_test, y_pred) )\n",
    "print(\"Precision:\",metrics.precision_score(y_test, y_pred))\n",
    "print(\"Recall:\",metrics.recall_score(y_test, y_pred))"
   ]
  },
  {
   "cell_type": "markdown",
   "metadata": {},
   "source": [
    "## Ensemble BalancedRandomForestClassifier"
   ]
  },
  {
   "cell_type": "code",
   "execution_count": null,
   "metadata": {},
   "outputs": [],
   "source": [
    "from imblearn.ensemble import BalancedRandomForestClassifier\n",
    "\n",
    "x_train, x_test, y_train, y_test = train_test_split(train8, real_y, test_size=0.25, random_state=33)\n",
    "\n",
    "brf = BalancedRandomForestClassifier(n_estimators = 100, \n",
    "                                     random_state = 0)\n",
    "brf.fit(x_train, y_train) \n",
    "\n",
    "y_pred_brfc = brf.predict(x_test)"
   ]
  },
  {
   "cell_type": "code",
   "execution_count": null,
   "metadata": {},
   "outputs": [],
   "source": [
    "# 和y_test比較\n",
    "from sklearn import metrics\n",
    "import seaborn as sns\n",
    "\n",
    "cnf_matrix = metrics.confusion_matrix(y_test, y_pred_brfc)\n",
    "cnf_matrix\n",
    "\n",
    "class_names=[0,1] # name  of classes\n",
    "\n",
    "fig, ax = plt.subplots()\n",
    "tick_marks = np.arange(len(class_names))\n",
    "plt.xticks(tick_marks, class_names)\n",
    "plt.yticks(tick_marks, class_names)\n",
    "\n",
    "# create heatmap\n",
    "sns.heatmap(pd.DataFrame(cnf_matrix), annot=True, cmap=\"YlGnBu\" ,fmt='g')\n",
    "ax.xaxis.set_label_position(\"top\")\n",
    "plt.tight_layout()\n",
    "plt.title('Confusion matrix', y=1.1)\n",
    "plt.ylabel('Actual label')\n",
    "plt.xlabel('Predicted label')"
   ]
  },
  {
   "cell_type": "code",
   "execution_count": null,
   "metadata": {},
   "outputs": [],
   "source": [
    "# 看area under ROC curve\n",
    "from sklearn.metrics import roc_auc_score\n",
    "\n",
    "print('Roc_auc_score:', roc_auc_score(y_test, y_pred_brfc) )\n",
    "print(\"Precision:\",metrics.precision_score(y_test, y_pred_brfc))\n",
    "print(\"Recall:\",metrics.recall_score(y_test, y_pred_brfc))"
   ]
  },
  {
   "cell_type": "markdown",
   "metadata": {},
   "source": [
    "### 測試criterion = Gini or Entropy"
   ]
  },
  {
   "cell_type": "code",
   "execution_count": null,
   "metadata": {},
   "outputs": [],
   "source": [
    "from imblearn.ensemble import BalancedRandomForestClassifier\n",
    "\n",
    "x_train, x_test, y_train, y_test = train_test_split(train8, real_y, test_size=0.25, random_state=33)\n",
    "\n",
    "brf = BalancedRandomForestClassifier(n_estimators = 100, \n",
    "                                     random_state = 0,\n",
    "                                     sampling_strategy=1,\n",
    "                                    max_depth = 26,\n",
    "                                    criterion = 'entropy',\n",
    "                                    learning_rate = 0.5)\n",
    "brf.fit(x_train, y_train) \n",
    "\n",
    "y_pred_brfc = brf.predict(x_test)\n",
    "\n",
    "# 和y_test比較\n",
    "from sklearn import metrics\n",
    "import seaborn as sns\n",
    "\n",
    "cnf_matrix = metrics.confusion_matrix(y_test, y_pred_brfc)\n",
    "cnf_matrix\n",
    "\n",
    "class_names=[0,1] # name  of classes\n",
    "\n",
    "fig, ax = plt.subplots()\n",
    "tick_marks = np.arange(len(class_names))\n",
    "plt.xticks(tick_marks, class_names)\n",
    "plt.yticks(tick_marks, class_names)\n",
    "\n",
    "# create heatmap\n",
    "sns.heatmap(pd.DataFrame(cnf_matrix), annot=True, cmap=\"YlGnBu\" ,fmt='g')\n",
    "ax.xaxis.set_label_position(\"top\")\n",
    "plt.tight_layout()\n",
    "plt.title('Confusion matrix', y=1.1)\n",
    "plt.ylabel('Actual label')\n",
    "plt.xlabel('Predicted label')"
   ]
  },
  {
   "cell_type": "code",
   "execution_count": null,
   "metadata": {},
   "outputs": [],
   "source": [
    "# 看area under ROC curve\n",
    "from sklearn.metrics import roc_auc_score\n",
    "\n",
    "print('Roc_auc_score:', roc_auc_score(y_test, y_pred_brfc) )\n",
    "print(\"Precision:\",metrics.precision_score(y_test, y_pred_brfc))\n",
    "print(\"Recall:\",metrics.recall_score(y_test, y_pred_brfc))"
   ]
  },
  {
   "cell_type": "markdown",
   "metadata": {},
   "source": [
    "用Gini Roc_score掉，用entropy分數提升！"
   ]
  },
  {
   "cell_type": "markdown",
   "metadata": {},
   "source": [
    "### 改一堆東西"
   ]
  },
  {
   "cell_type": "code",
   "execution_count": null,
   "metadata": {},
   "outputs": [],
   "source": [
    "from imblearn.ensemble import BalancedRandomForestClassifier\n",
    "\n",
    "x_train, x_test, y_train, y_test = train_test_split(train7, real_y, test_size=0.25, random_state=33)\n",
    "\n",
    "brf = BalancedRandomForestClassifier(n_estimators = 125, \n",
    "                                     random_state = 0,\n",
    "                                     sampling_strategy=1,\n",
    "                                    max_depth = 26,\n",
    "                                    criterion = 'entropy',\n",
    "                                    max_features = 28, \n",
    "                                    min_samples_split = 15,\n",
    "                                    min_samples_leaf = 10)\n",
    "\n",
    "brf.fit(x_train, y_train) \n",
    "\n",
    "y_pred_brfc = brf.predict(x_test)\n",
    "\n",
    "# 和y_test比較\n",
    "from sklearn import metrics\n",
    "import seaborn as sns\n",
    "\n",
    "cnf_matrix = metrics.confusion_matrix(y_test, y_pred_brfc)\n",
    "cnf_matrix\n",
    "\n",
    "class_names=[0,1] # name  of classes\n",
    "\n",
    "fig, ax = plt.subplots()\n",
    "tick_marks = np.arange(len(class_names))\n",
    "plt.xticks(tick_marks, class_names)\n",
    "plt.yticks(tick_marks, class_names)\n",
    "\n",
    "# create heatmap\n",
    "sns.heatmap(pd.DataFrame(cnf_matrix), annot=True, cmap=\"YlGnBu\" ,fmt='g')\n",
    "ax.xaxis.set_label_position(\"top\")\n",
    "plt.tight_layout()\n",
    "plt.title('Confusion matrix', y=1.1)\n",
    "plt.ylabel('Actual label')\n",
    "plt.xlabel('Predicted label')"
   ]
  },
  {
   "cell_type": "code",
   "execution_count": null,
   "metadata": {},
   "outputs": [],
   "source": [
    "# 看area under ROC curve\n",
    "from sklearn.metrics import roc_auc_score\n",
    "\n",
    "print('Roc_auc_score:', roc_auc_score(y_test, y_pred_brfc) )\n",
    "print(\"Precision:\",metrics.precision_score(y_test, y_pred_brfc))\n",
    "print(\"Recall:\",metrics.recall_score(y_test, y_pred_brfc))"
   ]
  },
  {
   "cell_type": "markdown",
   "metadata": {},
   "source": [
    "用log2分數掉，max_features = 70最好 --> 0.74936"
   ]
  },
  {
   "cell_type": "markdown",
   "metadata": {},
   "source": [
    "### feature selection"
   ]
  },
  {
   "cell_type": "code",
   "execution_count": null,
   "metadata": {
    "scrolled": false
   },
   "outputs": [],
   "source": [
    "importances = brf.feature_importances_\n",
    "\n",
    "std = np.std([tree.feature_importances_ for tree in brf.estimators_],\n",
    "             axis=0)\n",
    "\n",
    "indices = np.argsort(importances)[::-1]\n",
    "\n",
    "# Print the feature ranking\n",
    "print(\"Feature ranking:\")\n",
    "\n",
    "for f in range(train7.shape[1]):\n",
    "    print(\"%d. feature %d (%f)\" % (f + 1, indices[f], importances[indices[f]]))\n",
    "\n",
    "# Plot the feature importances of the forest\n",
    "plt.figure()\n",
    "plt.title(\"Feature importances\")\n",
    "plt.bar(range(train7.shape[1]), importances[indices],\n",
    "       color=\"r\", yerr=std[indices], align=\"center\")\n",
    "plt.xticks(range(train7.shape[1]), indices)\n",
    "plt.xlim([-1, train7.shape[1]])\n",
    "plt.show()"
   ]
  },
  {
   "cell_type": "code",
   "execution_count": null,
   "metadata": {},
   "outputs": [],
   "source": [
    "# important feature columns\n",
    "imp_col_num = [42, 31, 21, 3, 0 ,36, 45, 6, 1, 2, 5, 40, 46, 28, 12, 85, 13, 15, 10, 48 ,11 , 4, 29, 8 ,19 , 25, 14, 44]\n",
    "\n",
    "train7_col = list(train7.columns)\n",
    "\n",
    "imp_col = []\n",
    "\n",
    "for i in range(len(imp_col_num)):\n",
    "    imp_col.append(train7_col[imp_col_num[i]])\n",
    "    \n",
    "imp_col"
   ]
  },
  {
   "cell_type": "code",
   "execution_count": null,
   "metadata": {},
   "outputs": [],
   "source": [
    "# 取出重要的columns做成表格\n",
    "train6 = train7[imp_col]"
   ]
  },
  {
   "cell_type": "markdown",
   "metadata": {},
   "source": [
    "### Ensemble Adaboost"
   ]
  },
  {
   "cell_type": "code",
   "execution_count": null,
   "metadata": {},
   "outputs": [],
   "source": [
    "from imblearn.ensemble import EasyEnsembleClassifier\n",
    "\n",
    "x_train, x_test, y_train, y_test = train_test_split(train7, real_y, test_size=0.25, random_state=33)\n",
    "\n",
    "ada = EasyEnsembleClassifier(n_estimators = 100)\n",
    "\n",
    "ada.fit(x_train, y_train) \n",
    "\n",
    "y_pred_ada = ada.predict(x_test)\n",
    "\n",
    "# 和y_test比較\n",
    "from sklearn import metrics\n",
    "import seaborn as sns\n",
    "\n",
    "cnf_matrix = metrics.confusion_matrix(y_test, y_pred_ada)\n",
    "cnf_matrix\n",
    "\n",
    "class_names=[0,1] # name  of classes\n",
    "\n",
    "fig, ax = plt.subplots()\n",
    "tick_marks = np.arange(len(class_names))\n",
    "plt.xticks(tick_marks, class_names)\n",
    "plt.yticks(tick_marks, class_names)\n",
    "\n",
    "# create heatmap\n",
    "sns.heatmap(pd.DataFrame(cnf_matrix), annot=True, cmap=\"YlGnBu\" ,fmt='g')\n",
    "ax.xaxis.set_label_position(\"top\")\n",
    "plt.tight_layout()\n",
    "plt.title('Confusion matrix', y=1.1)\n",
    "plt.ylabel('Actual label')\n",
    "plt.xlabel('Predicted label')"
   ]
  },
  {
   "cell_type": "code",
   "execution_count": null,
   "metadata": {},
   "outputs": [],
   "source": [
    "# 看area under ROC curve\n",
    "from sklearn.metrics import roc_auc_score\n",
    "\n",
    "print('Roc_auc_score:', roc_auc_score(y_test, y_pred_ada) )\n",
    "print(\"Precision:\",metrics.precision_score(y_test, y_pred_ada))\n",
    "print(\"Recall:\",metrics.recall_score(y_test, y_pred_ada))"
   ]
  },
  {
   "cell_type": "markdown",
   "metadata": {},
   "source": [
    "### Ensemble RUSBoostClassifier"
   ]
  },
  {
   "cell_type": "code",
   "execution_count": null,
   "metadata": {},
   "outputs": [],
   "source": [
    "from imblearn.ensemble import RUSBoostClassifier\n",
    "\n",
    "x_train, x_test, y_train, y_test = train_test_split(train8, real_y, test_size=0.25, random_state=33)\n",
    "\n",
    "rus = RUSBoostClassifier(n_estimators = 100)\n",
    "\n",
    "rus.fit(x_train, y_train) \n",
    "\n",
    "y_pred_rus = rus.predict(x_test)\n",
    "\n",
    "# 和y_test比較\n",
    "from sklearn import metrics\n",
    "import seaborn as sns\n",
    "\n",
    "cnf_matrix = metrics.confusion_matrix(y_test, y_pred_rus)\n",
    "cnf_matrix\n",
    "\n",
    "class_names=[0,1] # name  of classes\n",
    "\n",
    "fig, ax = plt.subplots()\n",
    "tick_marks = np.arange(len(class_names))\n",
    "plt.xticks(tick_marks, class_names)\n",
    "plt.yticks(tick_marks, class_names)\n",
    "\n",
    "# create heatmap\n",
    "sns.heatmap(pd.DataFrame(cnf_matrix), annot=True, cmap=\"YlGnBu\" ,fmt='g')\n",
    "ax.xaxis.set_label_position(\"top\")\n",
    "plt.tight_layout()\n",
    "plt.title('Confusion matrix', y=1.1)\n",
    "plt.ylabel('Actual label')\n",
    "plt.xlabel('Predicted label')"
   ]
  },
  {
   "cell_type": "code",
   "execution_count": null,
   "metadata": {},
   "outputs": [],
   "source": [
    "# 看area under ROC curve\n",
    "from sklearn.metrics import roc_auc_score\n",
    "\n",
    "print('Roc_auc_score:', roc_auc_score(y_test, y_pred_ada) )\n",
    "print(\"Precision:\",metrics.precision_score(y_test, y_pred_ada))\n",
    "print(\"Recall:\",metrics.recall_score(y_test, y_pred_ada))"
   ]
  }
 ],
 "metadata": {
  "kernelspec": {
   "display_name": "Python 3",
   "language": "python",
   "name": "python3"
  },
  "language_info": {
   "codemirror_mode": {
    "name": "ipython",
    "version": 3
   },
   "file_extension": ".py",
   "mimetype": "text/x-python",
   "name": "python",
   "nbconvert_exporter": "python",
   "pygments_lexer": "ipython3",
   "version": "3.7.4"
  }
 },
 "nbformat": 4,
 "nbformat_minor": 2
}
