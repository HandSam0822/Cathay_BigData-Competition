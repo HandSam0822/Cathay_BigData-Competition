{
 "cells": [
  {
   "cell_type": "code",
   "execution_count": null,
   "metadata": {},
   "outputs": [],
   "source": [
    "#訓練集用來模型訓練，驗證集用來調整參數，而測試集用來衡量模型表現好壞。\n",
    "\n",
    "X = train_clean.drop(columns=['CUS_ID','Y1'])\n",
    "y = train_clean['Y1']\n",
    "\n",
    "X_trainval,X_test,y_trainval,y_test = train_test_split(X,y,test_size = 0.25 , random_state=0) \n",
    "X_train,X_val,y_train,y_val = train_test_split(X_trainval,y_trainval,test_size = 0.25,random_state=1) \n",
    "print(\"Size of training set:{} size of validation set:{} size of teseting set:{}\".format(X_train.shape[0],X_val.shape[0],X_test.shape[0]))\n",
    "\n"
   ]
  },
  {
   "cell_type": "code",
   "execution_count": null,
   "metadata": {},
   "outputs": [],
   "source": [
    "# GridSearch 自動調參\n",
    "from sklearn.model_selection import train_test_split\n",
    "from sklearn import svm, datasets\n",
    "from sklearn.model_selection import GridSearchCV\n",
    "from xgboost import XGBClassifier\n",
    "\n",
    "X, y = train, train_y\n",
    "\n",
    "cv_params = {'n_estimators': [400, 500, 600, 700, 800]}\n",
    "other_params = {'learning_rate': 0.1, 'n_estimators': 500, 'max_depth': 5, 'min_child_weight': 1, 'seed': 0,\n",
    "                    'subsample': 0.8, 'colsample_bytree': 0.8, 'gamma': 0, 'reg_alpha': 0, 'reg_lambda': 1}\n",
    "\n",
    "X_train, X_test, y_train, y_test = train_test_split(X , y, test_size=0.25, random_state=33)\n",
    "\n",
    "xgbc = XGBClassifier(eta = 0.15, gamma =0.2,  min_child_weight = 10 , max_depth =4 , subsample = 0.7 ,\n",
    "                    n_estimators = 500, colsample_bytree = 0.7 , alpha = 0.8 , lambda_reg = 0.8, scoring = 'roc_auc', \n",
    "                     learning_rate = 0.1 , objective= 'binary:logistic')\n",
    "\n",
    "#xgbc.fit(X_train , y_train)\n",
    "\n",
    "#ans = list(xgbc.predict(test))\n",
    "\n",
    "optimized_GBM = GridSearchCV(xgbc, param_grid=cv_params, scoring='roc_auc', cv=5, verbose=1, n_jobs=4)\n",
    "optimized_GBM.fit(X_train, y_train)\n",
    "evalute_result = optimized_GBM.grid_scores_\n",
    "print('每轮迭代运行结果:{0}'.format(evalute_result))\n",
    "print('参数的最佳取值：{0}'.format(optimized_GBM.best_params_))\n",
    "print('最佳模型得分:{0}'.format(optimized_GBM.best_score_))"
   ]
  },
  {
   "cell_type": "markdown",
   "metadata": {},
   "source": [
    "看起來切三份使得Y1=1的樣本數更小了，因此不管參數怎麼調整，模型依然會全部預測0  \n",
    "在此情況下，應該做  \n",
    "1.改善train data imbalance的情況(oversampling)  \n",
    "2.改善餵給model的資料(多餵一點Y1=1)  \n",
    "3.改善填值的方式(ex:MICE、Median)  \n",
    "4.改善Model的選擇(可以試試看logistic、randomforest、Naive Bayes)  "
   ]
  },
  {
   "cell_type": "code",
   "execution_count": null,
   "metadata": {},
   "outputs": [],
   "source": [
    "%%time\n",
    "XGBC_3 = XGBClassifier(base_score=0.5, booster='gbtree', colsample_bylevel=1,\n",
    "              colsample_bynode=1, colsample_bytree=1, gamma=1,\n",
    "              learning_rate=0.1, max_delta_step=0, max_depth=1,\n",
    "              min_child_weight=1, missing=None, n_estimators=500, n_jobs=1,\n",
    "              nthread=None, objective='binary:logistic', random_state=0,\n",
    "              reg_alpha=1, reg_lambda=1, scale_pos_weight=1, seed=None,\n",
    "              silent=None, subsample=1, verbosity=1)\n",
    "\n",
    "XGBC_3.fit(X_trainval,y_trainval) #使用訓練集和驗證集進行訓練，more data always results in good performance. \n",
    "\n",
    "print('best_score:',roc_auc_score(y_test,XGBC_3.predict(X_test)))\n"
   ]
  },
  {
   "cell_type": "code",
   "execution_count": null,
   "metadata": {},
   "outputs": [],
   "source": []
  },
  {
   "cell_type": "code",
   "execution_count": null,
   "metadata": {},
   "outputs": [],
   "source": []
  }
 ],
 "metadata": {
  "kernelspec": {
   "display_name": "Python 3",
   "language": "python",
   "name": "python3"
  },
  "language_info": {
   "codemirror_mode": {
    "name": "ipython",
    "version": 3
   },
   "file_extension": ".py",
   "mimetype": "text/x-python",
   "name": "python",
   "nbconvert_exporter": "python",
   "pygments_lexer": "ipython3",
   "version": "3.7.4"
  }
 },
 "nbformat": 4,
 "nbformat_minor": 2
}
